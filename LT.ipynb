{
 "metadata": {
  "language_info": {
   "codemirror_mode": {
    "name": "ipython",
    "version": 3
   },
   "file_extension": ".py",
   "mimetype": "text/x-python",
   "name": "python",
   "nbconvert_exporter": "python",
   "pygments_lexer": "ipython3",
   "version": "3.9.0"
  },
  "orig_nbformat": 2,
  "kernelspec": {
   "name": "python390jvsc74a57bd0ac59ebe37160ed0dfa835113d9b8498d9f09ceb179beaac4002f036b9467c963",
   "display_name": "Python 3.9.0 64-bit"
  },
  "metadata": {
   "interpreter": {
    "hash": "ac59ebe37160ed0dfa835113d9b8498d9f09ceb179beaac4002f036b9467c963"
   }
  }
 },
 "nbformat": 4,
 "nbformat_minor": 2,
 "cells": [
  {
   "source": [
    "# Authenticate"
   ],
   "cell_type": "markdown",
   "metadata": {}
  },
  {
   "cell_type": "code",
   "execution_count": 1,
   "metadata": {},
   "outputs": [],
   "source": [
    "api_key = \"QqsdNpnRDe3MYOgdFEsGYy1fvEnLvrmohytCd6kUNTs_\"\n",
    "url = \"https://api.us-south.language-translator.watson.cloud.ibm.com/instances/b86f51a4-d8d8-4351-9968-27ce84cb50da\""
   ]
  },
  {
   "cell_type": "code",
   "execution_count": 2,
   "metadata": {},
   "outputs": [],
   "source": [
    "from ibm_watson import LanguageTranslatorV3\n",
    "from ibm_cloud_sdk_core.authenticators import IAMAuthenticator"
   ]
  },
  {
   "cell_type": "code",
   "execution_count": 5,
   "metadata": {},
   "outputs": [],
   "source": [
    "authenticator = IAMAuthenticator(api_key)\n",
    "lt = LanguageTranslatorV3(version = \"2018-05-01\", authenticator = authenticator)\n",
    "lt.set_service_url(url)"
   ]
  },
  {
   "source": [
    "# Translate"
   ],
   "cell_type": "markdown",
   "metadata": {}
  },
  {
   "cell_type": "code",
   "execution_count": 6,
   "metadata": {},
   "outputs": [],
   "source": [
    "translate = lt.translate(text = \"Hello World\", model_id = \"en-de\").get_result()\n"
   ]
  },
  {
   "cell_type": "code",
   "execution_count": 7,
   "metadata": {},
   "outputs": [
    {
     "output_type": "execute_result",
     "data": {
      "text/plain": [
       "{'translations': [{'translation': 'Hallo Welt'}],\n",
       " 'word_count': 2,\n",
       " 'character_count': 11}"
      ]
     },
     "metadata": {},
     "execution_count": 7
    }
   ],
   "source": [
    "translate"
   ]
  },
  {
   "source": [
    "# Identify the Language"
   ],
   "cell_type": "markdown",
   "metadata": {}
  },
  {
   "cell_type": "code",
   "execution_count": 8,
   "metadata": {},
   "outputs": [],
   "source": [
    "language = lt.identify(\"This is a regular sentence\").get_result()"
   ]
  },
  {
   "cell_type": "code",
   "execution_count": 11,
   "metadata": {},
   "outputs": [],
   "source": [
    "ttsapikey = \"h1s8cwFqvl9l0_lbVvXoPeX4mp48e1L_8Edup3ktviX4\"\n",
    "ttsurl = \"https://api.us-south.text-to-speech.watson.cloud.ibm.com/instances/87969c12-10fb-42cb-be3b-7fa68f639652\""
   ]
  },
  {
   "cell_type": "code",
   "execution_count": 12,
   "metadata": {},
   "outputs": [],
   "source": [
    "from ibm_watson import TextToSpeechV1"
   ]
  },
  {
   "cell_type": "code",
   "execution_count": 13,
   "metadata": {},
   "outputs": [],
   "source": [
    "ttsauthenticator = IAMAuthenticator(ttsapikey)\n",
    "tts = TextToSpeechV1(authenticator = ttsauthenticator)\n",
    "tts.set_service_url(ttsurl)"
   ]
  },
  {
   "cell_type": "code",
   "execution_count": 14,
   "metadata": {},
   "outputs": [],
   "source": [
    "translation = lt.translate(text = \"We are sinking please send us help\", model_id = \"en-de\").get_result()"
   ]
  },
  {
   "cell_type": "code",
   "execution_count": 18,
   "metadata": {},
   "outputs": [
    {
     "output_type": "execute_result",
     "data": {
      "text/plain": [
       "{'translations': [{'translation': 'Wir sinken bitte senden Sie uns Hilfe'}],\n",
       " 'word_count': 7,\n",
       " 'character_count': 34}"
      ]
     },
     "metadata": {},
     "execution_count": 18
    }
   ],
   "source": [
    "translation"
   ]
  },
  {
   "cell_type": "code",
   "execution_count": 19,
   "metadata": {},
   "outputs": [],
   "source": [
    "text = translation[\"translations\"][0][\"translation\"]"
   ]
  },
  {
   "cell_type": "code",
   "execution_count": 20,
   "metadata": {},
   "outputs": [
    {
     "output_type": "execute_result",
     "data": {
      "text/plain": [
       "'Wir sinken bitte senden Sie uns Hilfe'"
      ]
     },
     "metadata": {},
     "execution_count": 20
    }
   ],
   "source": [
    "text"
   ]
  },
  {
   "cell_type": "code",
   "execution_count": 21,
   "metadata": {},
   "outputs": [],
   "source": [
    "with open ('./help.mp3', 'wb') as audio_file:\n",
    "    res = tts.synthesize(text, accept = 'audio/mp3', voice = 'de-DE_BirgitV3Voice').get_result()\n",
    "    audio_file.write(res.content)"
   ]
  },
  {
   "cell_type": "code",
   "execution_count": null,
   "metadata": {},
   "outputs": [],
   "source": []
  }
 ]
}